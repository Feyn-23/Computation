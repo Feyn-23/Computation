{
 "cells": [
  {
   "cell_type": "markdown",
   "source": [],
   "metadata": {
    "collapsed": false
   }
  },
  {
   "cell_type": "markdown",
   "source": [
    "This code handles the task of calculating the directional derivative of a function $f$ along the tangent unit vector to the manifold $\\Gamma$ defined by $$\\Gamma = \\{ (x,y,z) \\in \\mathbb{R}^3 :g_1(x,y,z)=0 \\, , \\, g_2(x,y,z)=0 \\}$$\n",
    "at point $P$."
   ],
   "metadata": {
    "collapsed": false
   }
  },
  {
   "cell_type": "code",
   "execution_count": 49,
   "metadata": {
    "collapsed": true
   },
   "outputs": [],
   "source": [
    "import numpy as np\n",
    "import sympy as sp\n",
    "sp.init_printing(use_latex=True)\n",
    "x,y,z = sp.var('x,y,z')\n",
    "P = [2,2,-1]"
   ]
  },
  {
   "cell_type": "code",
   "execution_count": 50,
   "outputs": [
    {
     "data": {
      "text/plain": "   3  2        2       \n6⋅x ⋅z  - 3⋅x⋅y ⋅z - 72",
      "image/png": "[encoded data removed]",
      "text/latex": "$\\displaystyle 6 x^{3} z^{2} - 3 x y^{2} z - 72$"
     },
     "execution_count": 50,
     "metadata": {},
     "output_type": "execute_result"
    }
   ],
   "source": [
    "#defining function and manifold's eqs\n",
    "f = x**(y**2+3*z) - 6*y**(3/2*x)\n",
    "g_1 = 3/4*x**2*y**3-3*x*y*z**2 -12\n",
    "g_2 = 6*x**3*z**2 - 3*x*y**2*z -72\n",
    "\n",
    "g_2"
   ],
   "metadata": {
    "collapsed": false,
    "pycharm": {
     "name": "#%%\n"
    }
   }
  },
  {
   "cell_type": "code",
   "execution_count": 51,
   "outputs": [],
   "source": [
    "gradf = [sp.diff(f,var) for var in [x,y,z]]\n",
    "grad_g1 = [sp.diff(g_1,var) for var in [x,y,z]]\n",
    "grad_g2 = [sp.diff(g_2,var) for var in [x,y,z]]"
   ],
   "metadata": {
    "collapsed": false,
    "pycharm": {
     "name": "#%%\n"
    }
   }
  },
  {
   "cell_type": "code",
   "execution_count": 52,
   "outputs": [],
   "source": [
    "grad_eval_g1 = [grad_g1[i].subs({x:P[0],y:P[1],z:P[2]}) for i in range(len(grad_g1))]\n",
    "grad_eval_g2 = [grad_g2[i].subs({x:P[0],y:P[1],z:P[2]}) for i in range(len(grad_g2))]"
   ],
   "metadata": {
    "collapsed": false,
    "pycharm": {
     "name": "#%%\n"
    }
   }
  },
  {
   "cell_type": "markdown",
   "source": [
    "The tangent vector $\\tau$ is given by $ \\tau = \\nabla g_1 \\wedge \\nabla g_2$"
   ],
   "metadata": {
    "collapsed": false
   }
  },
  {
   "cell_type": "code",
   "execution_count": 53,
   "outputs": [],
   "source": [
    "tau_x = grad_g1[1]*grad_g2[2] - grad_g1[2]*grad_g2[1]\n",
    "tau_y = grad_g1[2]*grad_g2[0] - grad_g1[0]*grad_g2[2]\n",
    "tau_z = grad_g1[0]*grad_g2[1] - grad_g1[1]*grad_g2[0]\n",
    "tau = [tau_x,tau_y,tau_z]\n",
    "tau_eval = [tau[i].subs({x:P[0],y:P[1],z:P[2]}) for i in range(len(tau))]"
   ],
   "metadata": {
    "collapsed": false,
    "pycharm": {
     "name": "#%%\n"
    }
   }
  },
  {
   "cell_type": "markdown",
   "source": [
    "Normalization"
   ],
   "metadata": {
    "collapsed": false
   }
  },
  {
   "cell_type": "code",
   "execution_count": 54,
   "outputs": [
    {
     "data": {
      "text/plain": "[-0.666666666666667, 0.666666666666667, -0.333333333333333]",
      "image/png": "[encoded data removed]",
      "text/latex": "$\\displaystyle \\left[ -0.666666666666667, \\  0.666666666666667, \\  -0.333333333333333\\right]$"
     },
     "execution_count": 54,
     "metadata": {},
     "output_type": "execute_result"
    }
   ],
   "source": [
    "norm = tau_eval[0]**2 + tau_eval[1]**2 + tau_eval[2]**2\n",
    "if(norm != 1):\n",
    "   tau = [ tau[i] / sp.sqrt(norm) for i in range(len(tau))]\n",
    "\n",
    "tau_eval = [tau[i].subs({x:P[0],y:P[1],z:P[2]}) for i in range(len(tau))]\n",
    "tau_eval"
   ],
   "metadata": {
    "collapsed": false,
    "pycharm": {
     "name": "#%%\n"
    }
   }
  },
  {
   "cell_type": "code",
   "execution_count": 55,
   "outputs": [
    {
     "data": {
      "text/plain": "-48.6666666666667 + 51.3333333333333⋅log(2)",
      "image/png": "[encoded data removed]",
      "text/latex": "$\\displaystyle -48.6666666666667 + 51.3333333333333 \\log{\\left(2 \\right)}$"
     },
     "execution_count": 55,
     "metadata": {},
     "output_type": "execute_result"
    }
   ],
   "source": [
    "df_dtau = 0\n",
    "for i in range(len(tau)):\n",
    "   df_dtau += gradf[i]*tau[i]\n",
    "\n",
    "df_dtau_eval = df_dtau.subs({x:P[0],y:P[1],z:P[2]})\n",
    "df_dtau_eval"
   ],
   "metadata": {
    "collapsed": false,
    "pycharm": {
     "name": "#%%\n"
    }
   }
  },
  {
   "cell_type": "markdown",
   "source": [],
   "metadata": {
    "collapsed": false
   }
  },
  {
   "cell_type": "markdown",
   "source": [
    "# Directional derivative along a vector normal to a manifold\n",
    "This code handles the task of calculating the directional derivative of a function $f$ along the normal unit vector $\\nu$ to the manifold $\\Gamma$ defined by $$\\Gamma = \\{ (x,y,z) \\in \\mathbb{R}^3 :g(x,y,z)=0 \\}$$\n",
    "at point $P$."
   ],
   "metadata": {
    "collapsed": false
   }
  },
  {
   "cell_type": "code",
   "execution_count": 56,
   "outputs": [
    {
     "data": {
      "text/plain": "     y      y⋅z      x + y\n- 2⋅x  + 4⋅y    + 3⋅z     ",
      "image/png": "[encoded data removed]",
      "text/latex": "$\\displaystyle - 2 x^{y} + 4 y^{y z} + 3 z^{x + y}$"
     },
     "execution_count": 56,
     "metadata": {},
     "output_type": "execute_result"
    }
   ],
   "source": [
    "import numpy as np\n",
    "import sympy as sp\n",
    "sp.init_printing(use_latex=True)\n",
    "x,y,z = sp.var('x,y,z')\n",
    "P = [2,2,2]\n",
    "#defining function and manifold's eqs\n",
    "f = 3*z**(x+y) -2*x**y +4*y**(y*z)\n",
    "g = 3/16*x**2*y**4 -1/4*x**3*y**2 + x**3*z -20\n",
    "\n",
    "f"
   ],
   "metadata": {
    "collapsed": false,
    "pycharm": {
     "name": "#%%\n"
    }
   }
  },
  {
   "cell_type": "code",
   "execution_count": 57,
   "outputs": [
    {
     "data": {
      "text/plain": "[-24, -16.0, -8]",
      "image/png": "[encoded data removed]",
      "text/latex": "$\\displaystyle \\left[ -24, \\  -16.0, \\  -8\\right]$"
     },
     "execution_count": 57,
     "metadata": {},
     "output_type": "execute_result"
    }
   ],
   "source": [
    "# computing the gradients\n",
    "gradf = [sp.diff(f,var) for var in [x,y,z]]\n",
    "grad_g = [sp.diff(g,var) for var in [x,y,z]]\n",
    "\n",
    "# the normal vector(also, verify the given condition)\n",
    "nu_x=grad_g[0] * (-1)\n",
    "nu_y=grad_g[1] * (-1)\n",
    "nu_z=grad_g[2] * (-1)\n",
    "nu = [nu_x,nu_y,nu_z]\n",
    "nu_eval = [nu[i].subs({x:P[0],y:P[1],z:P[2]}) for i in range(len(nu))]\n",
    "nu_eval"
   ],
   "metadata": {
    "collapsed": false,
    "pycharm": {
     "name": "#%%\n"
    }
   }
  },
  {
   "cell_type": "code",
   "execution_count": 58,
   "outputs": [],
   "source": [
    "# now normalizing the vector\n",
    "norm = nu_eval[0]**2 + nu_eval[1]**2 + nu_eval[2]**2\n",
    "if(norm != 1):\n",
    "   nu = [ nu[i] / sp.sqrt(norm) for i in range(len(nu))]"
   ],
   "metadata": {
    "collapsed": false,
    "pycharm": {
     "name": "#%%\n"
    }
   }
  },
  {
   "cell_type": "markdown",
   "source": [
    "The directional derivative can now be computed using the theorem($f \\in C_1$) and $\\Gamma$ is a regulare manifold:\n",
    "$$\\frac{\\partial f}{\\partial \\nu}(P) = <\\nabla f(P) , \\nu >$$"
   ],
   "metadata": {
    "collapsed": false
   }
  },
  {
   "cell_type": "code",
   "execution_count": 59,
   "outputs": [
    {
     "data": {
      "text/plain": "-162.494835082754⋅log(2) - 87.6616873472752",
      "image/png": "[encoded data removed]",
      "text/latex": "$\\displaystyle - 162.494835082754 \\log{\\left(2 \\right)} - 87.6616873472752$"
     },
     "execution_count": 59,
     "metadata": {},
     "output_type": "execute_result"
    }
   ],
   "source": [
    "df_dnu = 0\n",
    "for i in range(len(nu)):\n",
    "   df_dnu += gradf[i]*nu[i]\n",
    "\n",
    "df_dnu_eval = df_dnu.subs({x:P[0],y:P[1],z:P[2]})\n",
    "# sp.simplify(df_dnu_eval)\n",
    "\n",
    "df_dnu_eval"
   ],
   "metadata": {
    "collapsed": false,
    "pycharm": {
     "name": "#%%\n"
    }
   }
  }
 ],
 "metadata": {
  "kernelspec": {
   "display_name": "Python 3",
   "language": "python",
   "name": "python3"
  },
  "language_info": {
   "codemirror_mode": {
    "name": "ipython",
    "version": 2
   },
   "file_extension": ".py",
   "mimetype": "text/x-python",
   "name": "python",
   "nbconvert_exporter": "python",
   "pygments_lexer": "ipython2",
   "version": "2.7.6"
  }
 },
 "nbformat": 4,
 "nbformat_minor": 0
}