{
 "cells": [
  {
   "cell_type": "markdown",
   "source": [
    "# Directional derivative on a manifold"
   ],
   "metadata": {
    "collapsed": false
   }
  },
  {
   "cell_type": "markdown",
   "source": [
    "This code handles the task of calculating the directional derivative of a function $f$ along the tangent unit vector to the manifold $\\Gamma$ defined by $$\\Gamma = \\{ (x,y,z) \\in \\mathbb{R}^3 :g_1(x,y,z)=0 \\, , \\, g_2(x,y,z)=0 \\}$$\n",
    "at point $P$."
   ],
   "metadata": {
    "collapsed": false
   }
  },
  {
   "cell_type": "code",
   "execution_count": 131,
   "metadata": {
    "collapsed": true
   },
   "outputs": [],
   "source": [
    "# import numpy as np\n",
    "# import sympy as sp\n",
    "# sp.init_printing(use_latex=True)\n",
    "# x,y,z = sp.var('x,y,z')\n",
    "# P = [2,2,1]"
   ]
  },
  {
   "cell_type": "code",
   "execution_count": 132,
   "outputs": [],
   "source": [
    "# #defining function and manifold's eqs\n",
    "# f = 17/32*x**(2*x*z) - 17/4 * y**(x+z)\n",
    "# g_1 = 3/16*x**2*y**4 - 1/4*x**3*y**2 + x**3*z -20\n",
    "# g_2 = x**2 + z*x**2\n",
    "#\n",
    "# f"
   ],
   "metadata": {
    "collapsed": false,
    "pycharm": {
     "name": "#%%\n"
    }
   }
  },
  {
   "cell_type": "code",
   "execution_count": 133,
   "outputs": [],
   "source": [
    "# gradf = [sp.diff(f,var) for var in [x,y,z]]\n",
    "#\n",
    "# gradf\n",
    "# gradf[0].subs({x:P[0],y:P[1],z:P[2]})"
   ],
   "metadata": {
    "collapsed": false,
    "pycharm": {
     "name": "#%%\n"
    }
   }
  },
  {
   "cell_type": "code",
   "execution_count": 134,
   "outputs": [],
   "source": [
    "# grad_eval_f = [gradf[i].subs({x:P[0],y:P[1],z:P[2]}) for i in range(len(gradf))]\n",
    "# grad_eval_f"
   ],
   "metadata": {
    "collapsed": false,
    "pycharm": {
     "name": "#%%\n"
    }
   }
  },
  {
   "cell_type": "code",
   "execution_count": 135,
   "outputs": [],
   "source": [
    "# grad_g1 = [sp.diff(g_1,var) for var in [x,y,z]]\n",
    "# grad_g2 = [sp.diff(g_2,var) for var in [x,y,z]]\n",
    "#\n",
    "# grad_eval_g1 = [grad_g1[i].subs({x:P[0],y:P[1],z:P[2]}) for i in range(len(grad_g1))]\n",
    "# grad_eval_g2 = [grad_g2[i].subs({x:P[0],y:P[1],z:P[2]}) for i in range(len(grad_g2))]"
   ],
   "metadata": {
    "collapsed": false,
    "pycharm": {
     "name": "#%%\n"
    }
   }
  },
  {
   "cell_type": "markdown",
   "source": [
    "The tangent vector $\\tau$ is given by $ \\tau = \\nabla g_1 \\wedge \\nabla g_2$"
   ],
   "metadata": {
    "collapsed": false
   }
  },
  {
   "cell_type": "code",
   "execution_count": 136,
   "outputs": [],
   "source": [
    "# # tau_x = grad_eval_g1[1]*grad_eval_g2[2] - grad_eval_g1[2]*grad_eval_g2[1]\n",
    "# # tau_y = grad_eval_g1[2]*grad_eval_g2[0] - grad_eval_g1[0]*grad_eval_g2[2]\n",
    "# # tau_z = grad_eval_g1[0]*grad_eval_g2[1] - grad_eval_g1[1]*grad_eval_g2[0]\n",
    "# tau_x = grad_g1[1]*grad_g2[2] - grad_g1[2]*grad_g2[1]\n",
    "# tau_y = grad_g1[2]*grad_g2[0] - grad_g1[0]*grad_g2[2]\n",
    "# tau_z = grad_g1[0]*grad_g2[1] - grad_g1[1]*grad_g2[0]\n",
    "# tau = [tau_x,tau_y,tau_z]\n",
    "# tau_eval = [tau[i].subs({x:P[0],y:P[1],z:P[2]}) for i in range(len(tau))]\n",
    "# tau_eval"
   ],
   "metadata": {
    "collapsed": false,
    "pycharm": {
     "name": "#%%\n"
    }
   }
  },
  {
   "cell_type": "markdown",
   "source": [
    "Normalization"
   ],
   "metadata": {
    "collapsed": false
   }
  },
  {
   "cell_type": "code",
   "execution_count": 137,
   "outputs": [],
   "source": [
    "\n",
    "# norm = tau_eval[0]**2 + tau_eval[1]**2 + tau_eval[2]**2\n",
    "# if(norm != 1):\n",
    "#    tau = [ tau[i] / sp.sqrt(norm) for i in range(len(tau))]"
   ],
   "metadata": {
    "collapsed": false,
    "pycharm": {
     "name": "#%%\n"
    }
   }
  },
  {
   "cell_type": "code",
   "execution_count": 138,
   "outputs": [],
   "source": [
    "# df_dtau = 0\n",
    "# for i in range(len(tau)):\n",
    "#    df_dtau += gradf[i]*tau[i]\n",
    "#\n",
    "# df_dtau_eval = df_dtau.subs({x:P[0],y:P[1],z:P[2]})\n",
    "# df_dtau_eval"
   ],
   "metadata": {
    "collapsed": false,
    "pycharm": {
     "name": "#%%\n"
    }
   }
  },
  {
   "cell_type": "markdown",
   "source": [],
   "metadata": {
    "collapsed": false
   }
  },
  {
   "cell_type": "code",
   "execution_count": 140,
   "outputs": [
    {
     "data": {
      "text/plain": "1.88888888888889 - 7.55555555555556⋅log(2)",
      "image/png": "[encoded data removed]",
      "text/latex": "$\\displaystyle 1.88888888888889 - 7.55555555555556 \\log{\\left(2 \\right)}$"
     },
     "execution_count": 140,
     "metadata": {},
     "output_type": "execute_result"
    }
   ],
   "source": [
    "import numpy as np\n",
    "import sympy as sp\n",
    "sp.init_printing(use_latex=True)\n",
    "x,y,z = sp.var('x,y,z')\n",
    "P = [2,2,1]\n",
    "#defining function and manifold's eqs\n",
    "f = 17/32*x**(2*x*z) - 17/4 * y**(x+z)\n",
    "g = x**2*y**2 - 4*x*y*z**2 +4*y*z**3 - 8\n",
    "gradf = [sp.diff(f,var) for var in [x,y,z]]\n",
    "\n",
    "# gradf\n",
    "# gradf[0].subs({x:P[0],y:P[1],z:P[2]})\n",
    "grad_g = [sp.diff(g,var) for var in [x,y,z]]\n",
    "\n",
    "nu_x=grad_g[0] * (-1)\n",
    "nu_y=grad_g[1] * (-1)\n",
    "nu_z=grad_g[2] * (-1)\n",
    "nu = [nu_x,nu_y,nu_z]\n",
    "\n",
    "nu_eval = [nu[i].subs({x:P[0],y:P[1],z:P[2]}) for i in range(len(nu))]\n",
    "norm = nu_eval[0]**2 + nu_eval[1]**2 + nu_eval[2]**2\n",
    "if(norm != 1):\n",
    "   nu = [ nu[i] / sp.sqrt(norm) for i in range(len(nu))]\n",
    "\n",
    "   df_dnu = 0\n",
    "for i in range(len(nu)):\n",
    "   df_dnu += gradf[i]*nu[i]\n",
    "\n",
    "df_dnu_eval = df_dtau.subs({x:P[0],y:P[1],z:P[2]})\n",
    "df_dnu_eval\n"
   ],
   "metadata": {
    "collapsed": false,
    "pycharm": {
     "name": "#%%\n"
    }
   }
  }
 ],
 "metadata": {
  "kernelspec": {
   "display_name": "Python 3",
   "language": "python",
   "name": "python3"
  },
  "language_info": {
   "codemirror_mode": {
    "name": "ipython",
    "version": 2
   },
   "file_extension": ".py",
   "mimetype": "text/x-python",
   "name": "python",
   "nbconvert_exporter": "python",
   "pygments_lexer": "ipython2",
   "version": "2.7.6"
  }
 },
 "nbformat": 4,
 "nbformat_minor": 0
}