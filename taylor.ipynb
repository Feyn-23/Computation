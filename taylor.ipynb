{
 "cells": [
  {
   "cell_type": "code",
   "execution_count": 16,
   "metadata": {
    "collapsed": true,
    "pycharm": {
     "name": "#%%\n"
    }
   },
   "outputs": [
    {
     "data": {
      "text/plain": "    ⎛     2      2    ⎞\n    ⎜- 4⋅π ⋅C⋅L⋅f  + 1⎟\natan⎜─────────────────⎟\n    ⎝    2⋅π⋅C⋅R⋅f    ⎠",
      "image/png": "[encoded data removed]",
      "text/latex": "$\\displaystyle \\operatorname{atan}{\\left(\\frac{- 4 \\pi^{2} C L f^{2} + 1}{2 \\pi C R f} \\right)}$"
     },
     "execution_count": 16,
     "metadata": {},
     "output_type": "execute_result"
    }
   ],
   "source": [
    "import sympy as sp\n",
    "sp.init_printing()\n",
    "f = sp.var('f')\n",
    "f_0,R,L,C = sp.symbols('f_0,R,L,C')\n",
    "func = sp.atan((1 - (2*sp.pi*f)**2 * L*C )/(R*2*sp.pi*f*C))\n",
    "func"
   ]
  },
  {
   "cell_type": "code",
   "execution_count": 17,
   "outputs": [
    {
     "name": "stdout",
     "output_type": "stream",
     "text": [
      "$$  \n",
      "- \\operatorname{atan}{\\left(\\frac{4 \\pi^{2} C L f_{0}^{2} - 1}{2 \\pi C R f_{0}} \\right)} + \\left(f - f_{0}\\right) \\left(- \\frac{2 \\pi L}{\\frac{4 \\pi^{2} L^{2} f_{0}^{2}}{R} + R - \\frac{2 L}{C R} + \\frac{1}{4 \\pi^{2} C^{2} R f_{0}^{2}}} - \\frac{1}{\\frac{8 \\pi^{3} C L^{2} f_{0}^{4}}{R} + 2 \\pi C R f_{0}^{2} - \\frac{4 \\pi L f_{0}^{2}}{R} + \\frac{1}{2 \\pi C R}}\\right) + O\\left(\\left(f - f_{0}\\right)^{2}; f\\rightarrow f_{0}\\right)\n",
      "  $$\n"
     ]
    }
   ],
   "source": [
    "# sum(h**i/sp.factorial(i) * f.diff(x,i) for i in range(2))\n",
    "\n",
    "print('$$  ')\n",
    "sp.print_latex(sp.series(func, f, x0=f_0, n=2))\n",
    "print('  $$')"
   ],
   "metadata": {
    "collapsed": false,
    "pycharm": {
     "name": "#%%\n"
    }
   }
  },
  {
   "cell_type": "markdown",
   "source": [
    "$$\n",
    "- \\operatorname{atan}{\\left(\\frac{4 \\pi^{2} C L f_{0}^{2} - 1}{2 \\pi C R f_{0}} \\right)} + \\left(f - f_{0}\\right) \\left(- \\frac{2 \\pi L}{\\frac{4 \\pi^{2} L^{2} f_{0}^{2}}{R} + R - \\frac{2 L}{C R} + \\frac{1}{4 \\pi^{2} C^{2} R f_{0}^{2}}} - \\frac{1}{\\frac{8 \\pi^{3} C L^{2} f_{0}^{4}}{R} + 2 \\pi C R f_{0}^{2} - \\frac{4 \\pi L f_{0}^{2}}{R} + \\frac{1}{2 \\pi C R}}\\right) + O\\left(\\left(f - f_{0}\\right)^{2}; f\\rightarrow f_{0}\\right)\n",
    "$$"
   ],
   "metadata": {
    "collapsed": false,
    "pycharm": {
     "name": "#%% md\n"
    }
   }
  },
  {
   "cell_type": "markdown",
   "source": [],
   "metadata": {
    "collapsed": false,
    "pycharm": {
     "name": "#%% md\n"
    }
   }
  }
 ],
 "metadata": {
  "kernelspec": {
   "display_name": "Python 3",
   "language": "python",
   "name": "python3"
  },
  "language_info": {
   "codemirror_mode": {
    "name": "ipython",
    "version": 2
   },
   "file_extension": ".py",
   "mimetype": "text/x-python",
   "name": "python",
   "nbconvert_exporter": "python",
   "pygments_lexer": "ipython2",
   "version": "2.7.6"
  }
 },
 "nbformat": 4,
 "nbformat_minor": 0
}