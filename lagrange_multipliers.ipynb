{
 "cells": [
  {
   "cell_type": "code",
   "execution_count": 1,
   "metadata": {
    "collapsed": true
   },
   "outputs": [],
   "source": [
    "import sympy as sp\n",
    "import numpy as np\n",
    "sp.init_printing()\n",
    "x,y,z = sp.var('x,y,z')"
   ]
  },
  {
   "cell_type": "code",
   "execution_count": 2,
   "outputs": [],
   "source": [
    "f = x**2 +2*y**2 + np.sqrt(10) * y*z\n",
    "g =  np.sqrt(10)*x**2 + y**2 + 2*z**2 -2"
   ],
   "metadata": {
    "collapsed": false,
    "pycharm": {
     "name": "#%%\n"
    }
   }
  },
  {
   "cell_type": "code",
   "execution_count": 3,
   "outputs": [],
   "source": [
    "lambda_1 = sp.symbols('lambda')\n",
    "L = f - lambda_1*g   #Lagrangian function"
   ],
   "metadata": {
    "collapsed": false,
    "pycharm": {
     "name": "#%%\n"
    }
   }
  },
  {
   "cell_type": "code",
   "execution_count": 4,
   "outputs": [
    {
     "data": {
      "text/plain": "⎡                                                                             \n⎣-6.32455532033676⋅λ⋅x + 2⋅x, -2⋅λ⋅y + 4⋅y + 3.16227766016838⋅z, -4⋅λ⋅z + 3.16\n\n                                  2    2      2    ⎤\n227766016838⋅y, 3.16227766016838⋅x  + y  + 2⋅z  - 2⎦",
      "image/png": "[encoded data removed]",
      "text/latex": "$\\displaystyle \\left[ - 6.32455532033676 \\lambda x + 2 x, \\  - 2 \\lambda y + 4 y + 3.16227766016838 z, \\  - 4 \\lambda z + 3.16227766016838 y, \\  3.16227766016838 x^{2} + y^{2} + 2 z^{2} - 2\\right]$"
     },
     "execution_count": 4,
     "metadata": {},
     "output_type": "execute_result"
    }
   ],
   "source": [
    "gradL = [sp.diff(L,var) for var in [x,y,z]]\n",
    "eqs = gradL + [g]\n",
    "eqs"
   ],
   "metadata": {
    "collapsed": false,
    "pycharm": {
     "name": "#%%\n"
    }
   }
  },
  {
   "cell_type": "code",
   "execution_count": 11,
   "outputs": [
    {
     "name": "stdout",
     "output_type": "stream",
     "text": [
      "{x: 0.0, y: -0.577350269189626, z: 0.912870929175277, lambda: -0.500000000000000}\n",
      "{x: 0.0, y: 0.577350269189626, z: -0.912870929175277, lambda: -0.500000000000000}\n",
      "{x: -0.795270728767051, y: 0.0, z: 0.0, lambda: 0.316227766016838}\n",
      "{x: 0.795270728767051, y: 0.0, z: 0.0, lambda: 0.316227766016838}\n",
      "{x: 0.0, y: -1.29099444873581, z: -0.408248290463863, lambda: 2.50000000000000}\n",
      "{x: 0.0, y: 1.29099444873581, z: 0.408248290463863, lambda: 2.50000000000000}\n"
     ]
    }
   ],
   "source": [
    "solution = sp.solve(eqs, [x,y,z, lambda_1], dict=True)\n",
    "\n",
    "for p in solution:\n",
    "    print(p)\n"
   ],
   "metadata": {
    "collapsed": false,
    "pycharm": {
     "name": "#%%\n"
    }
   }
  },
  {
   "cell_type": "markdown",
   "source": [],
   "metadata": {
    "collapsed": false
   }
  },
  {
   "cell_type": "code",
   "execution_count": 6,
   "outputs": [],
   "source": [
    "# for p in solution:\n",
    "#     sp.simplify(f.subs(p))\n",
    "\n"
   ],
   "metadata": {
    "collapsed": false,
    "pycharm": {
     "name": "#%%\n"
    }
   }
  },
  {
   "cell_type": "code",
   "execution_count": 7,
   "outputs": [
    {
     "data": {
      "text/plain": "[-1.0, -1.0, 0.632455532033676, 0.632455532033676, 5.0, 5.0]",
      "image/png": "[encoded data removed]",
      "text/latex": "$\\displaystyle \\left[ -1.0, \\  -1.0, \\  0.632455532033676, \\  0.632455532033676, \\  5.0, \\  5.0\\right]$"
     },
     "execution_count": 7,
     "metadata": {},
     "output_type": "execute_result"
    }
   ],
   "source": [
    "[f.subs(p) for p in solution]"
   ],
   "metadata": {
    "collapsed": false,
    "pycharm": {
     "name": "#%%\n"
    }
   }
  }
 ],
 "metadata": {
  "kernelspec": {
   "display_name": "Python 3",
   "language": "python",
   "name": "python3"
  },
  "language_info": {
   "codemirror_mode": {
    "name": "ipython",
    "version": 2
   },
   "file_extension": ".py",
   "mimetype": "text/x-python",
   "name": "python",
   "nbconvert_exporter": "python",
   "pygments_lexer": "ipython2",
   "version": "2.7.6"
  }
 },
 "nbformat": 4,
 "nbformat_minor": 0
}